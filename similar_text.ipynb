{
 "cells": [
  {
   "cell_type": "code",
   "execution_count": 12,
   "id": "c7ba48ab",
   "metadata": {},
   "outputs": [],
   "source": [
    "import string\n",
    "from sklearn.metrics.pairwise import cosine_similarity\n",
    "from sklearn.feature_extraction.text import CountVectorizer\n",
    "import nltk\n",
    "from nltk.corpus import stopwords\n",
    "stopwords = stopwords.words('spanish')"
   ]
  },
  {
   "cell_type": "code",
   "execution_count": 13,
   "id": "5482ad11",
   "metadata": {},
   "outputs": [],
   "source": [
    "def clean_string(text):\n",
    "    text = ''.join([word for word in text if word not in string.punctuation])\n",
    "    text = text.lower()\n",
    "    text = ' '.join([word for word in text.split() if word not in stopwords])\n",
    "    return text"
   ]
  },
  {
   "cell_type": "code",
   "execution_count": 14,
   "id": "97bca192",
   "metadata": {},
   "outputs": [
    {
     "data": {
      "text/plain": [
       "'hola mundo python'"
      ]
     },
     "execution_count": 14,
     "metadata": {},
     "output_type": "execute_result"
    }
   ],
   "source": [
    "strv = 'hola mundo con python'\n",
    "filtered = clean_string(strv)\n",
    "filtered"
   ]
  },
  {
   "cell_type": "code",
   "execution_count": 19,
   "id": "157a895c",
   "metadata": {},
   "outputs": [
    {
     "data": {
      "text/plain": [
       "array([[1, 1, 1]])"
      ]
     },
     "execution_count": 19,
     "metadata": {},
     "output_type": "execute_result"
    }
   ],
   "source": [
    "vectorizer = CountVectorizer().fit_transform([filtered])\n",
    "vectors = vectorizer.toarray()\n",
    "vectors"
   ]
  },
  {
   "cell_type": "code",
   "execution_count": 22,
   "id": "7a35bdc0",
   "metadata": {},
   "outputs": [
    {
     "data": {
      "text/plain": [
       "array([[1.]])"
      ]
     },
     "execution_count": 22,
     "metadata": {},
     "output_type": "execute_result"
    }
   ],
   "source": [
    "csim = cosine_similarity(vectors)\n",
    "csim"
   ]
  },
  {
   "cell_type": "code",
   "execution_count": 24,
   "id": "a9598a3e",
   "metadata": {},
   "outputs": [
    {
     "name": "stderr",
     "output_type": "stream",
     "text": [
      "/home/ale/env/lib/python3.8/site-packages/fuzzywuzzy/fuzz.py:11: UserWarning: Using slow pure-python SequenceMatcher. Install python-Levenshtein to remove this warning\n",
      "  warnings.warn('Using slow pure-python SequenceMatcher. Install python-Levenshtein to remove this warning')\n"
     ]
    }
   ],
   "source": [
    "from fuzzywuzzy import fuzz"
   ]
  },
  {
   "cell_type": "code",
   "execution_count": 25,
   "id": "52ff5bc5",
   "metadata": {},
   "outputs": [
    {
     "name": "stdout",
     "output_type": "stream",
     "text": [
      "95\n"
     ]
    }
   ],
   "source": [
    "from fuzzywuzzy import fuzz\n",
    "Str1 = \"Apple Inc.\"\n",
    "Str2 = \"apple Inc\"\n",
    "Ratio = fuzz.ratio(Str1.lower(),Str2.lower())\n",
    "print(Ratio)"
   ]
  },
  {
   "cell_type": "code",
   "execution_count": 34,
   "id": "d16cd4f9",
   "metadata": {},
   "outputs": [],
   "source": [
    "def fuzzywuzzy_fun(Str1, Str2):\n",
    "    Ratio = fuzz.ratio(Str1.lower(),Str2.lower())\n",
    "    Partial_Ratio = fuzz.partial_ratio(Str1.lower(),Str2.lower())\n",
    "    Token_Sort_Ratio = fuzz.token_sort_ratio(Str1,Str2)\n",
    "    Token_Set_Ratio = fuzz.token_set_ratio(Str1,Str2)\n",
    "    print(Ratio)\n",
    "    print(Partial_Ratio)\n",
    "    print(Token_Sort_Ratio)\n",
    "    print(Token_Set_Ratio)"
   ]
  },
  {
   "cell_type": "code",
   "execution_count": 35,
   "id": "cc6f989b",
   "metadata": {},
   "outputs": [],
   "source": [
    "import pandas as pd\n",
    "def line(val):\n",
    "    print('---   ---   ---   ---   ---   ---   [ ', str(val), ' ]   ---   ---   ---   ---   ---   ---')"
   ]
  },
  {
   "cell_type": "code",
   "execution_count": 36,
   "id": "933fa341",
   "metadata": {},
   "outputs": [
    {
     "name": "stdout",
     "output_type": "stream",
     "text": [
      "---   ---   ---   ---   ---   ---   [  dataset description  ]   ---   ---   ---   ---   ---   ---\n",
      "<class 'pandas.core.frame.DataFrame'>\n",
      "RangeIndex: 676 entries, 0 to 675\n",
      "Data columns (total 7 columns):\n",
      " #   Column    Non-Null Count  Dtype \n",
      "---  ------    --------------  ----- \n",
      " 0   Id        676 non-null    int64 \n",
      " 1   Category  676 non-null    object\n",
      " 2   Topic     676 non-null    object\n",
      " 3   Source    676 non-null    object\n",
      " 4   Headline  676 non-null    object\n",
      " 5   Text      676 non-null    object\n",
      " 6   Link      676 non-null    object\n",
      "dtypes: int64(1), object(6)\n",
      "memory usage: 37.1+ KB\n",
      "---   ---   ---   ---   ---   ---   [  first lines  ]   ---   ---   ---   ---   ---   ---\n"
     ]
    },
    {
     "data": {
      "text/html": [
       "<div>\n",
       "<style scoped>\n",
       "    .dataframe tbody tr th:only-of-type {\n",
       "        vertical-align: middle;\n",
       "    }\n",
       "\n",
       "    .dataframe tbody tr th {\n",
       "        vertical-align: top;\n",
       "    }\n",
       "\n",
       "    .dataframe thead th {\n",
       "        text-align: right;\n",
       "    }\n",
       "</style>\n",
       "<table border=\"1\" class=\"dataframe\">\n",
       "  <thead>\n",
       "    <tr style=\"text-align: right;\">\n",
       "      <th></th>\n",
       "      <th>Id</th>\n",
       "      <th>Category</th>\n",
       "      <th>Topic</th>\n",
       "      <th>Source</th>\n",
       "      <th>Headline</th>\n",
       "      <th>Text</th>\n",
       "      <th>Link</th>\n",
       "    </tr>\n",
       "  </thead>\n",
       "  <tbody>\n",
       "    <tr>\n",
       "      <th>0</th>\n",
       "      <td>1</td>\n",
       "      <td>Fake</td>\n",
       "      <td>Education</td>\n",
       "      <td>El Ruinaversal</td>\n",
       "      <td>RAE INCLUIRÁ LA PALABRA \"LADY\" EN EL DICCIONAR...</td>\n",
       "      <td>RAE INCLUIRÁ LA PALABRA \"LADY\" EN EL DICCIONAR...</td>\n",
       "      <td>http://www.elruinaversal.com/2017/06/10/rae-in...</td>\n",
       "    </tr>\n",
       "    <tr>\n",
       "      <th>1</th>\n",
       "      <td>2</td>\n",
       "      <td>Fake</td>\n",
       "      <td>Education</td>\n",
       "      <td>Hay noticia</td>\n",
       "      <td>La palabra \"haiga\", aceptada por la RAE</td>\n",
       "      <td>La palabra \"haiga\", aceptada por la RAE La Rea...</td>\n",
       "      <td>https://haynoticia.es/la-palabra-haiga-aceptad...</td>\n",
       "    </tr>\n",
       "    <tr>\n",
       "      <th>2</th>\n",
       "      <td>3</td>\n",
       "      <td>Fake</td>\n",
       "      <td>Education</td>\n",
       "      <td>El Ruinaversal</td>\n",
       "      <td>YORDI ROSADO ESCRIBIRÁ Y DISEÑARÁ LOS NUEVOS L...</td>\n",
       "      <td>YORDI ROSADO ESCRIBIRÁ Y DISEÑARÁ LOS NUEVOS L...</td>\n",
       "      <td>http://www.elruinaversal.com/2018/05/06/yordi-...</td>\n",
       "    </tr>\n",
       "    <tr>\n",
       "      <th>3</th>\n",
       "      <td>4</td>\n",
       "      <td>True</td>\n",
       "      <td>Education</td>\n",
       "      <td>EL UNIVERSAL</td>\n",
       "      <td>UNAM capacitará a maestros para aprobar prueba...</td>\n",
       "      <td>UNAM capacitará a maestros para aprobar prueba...</td>\n",
       "      <td>http://www.eluniversal.com.mx/articulo/nacion/...</td>\n",
       "    </tr>\n",
       "    <tr>\n",
       "      <th>4</th>\n",
       "      <td>5</td>\n",
       "      <td>Fake</td>\n",
       "      <td>Education</td>\n",
       "      <td>Lamula</td>\n",
       "      <td>pretenden aprobar libros escolares con conteni...</td>\n",
       "      <td>Alerta: pretenden aprobar libros escolares con...</td>\n",
       "      <td>https://redaccion.lamula.pe/2018/06/19/memoria...</td>\n",
       "    </tr>\n",
       "  </tbody>\n",
       "</table>\n",
       "</div>"
      ],
      "text/plain": [
       "   Id Category      Topic          Source  \\\n",
       "0   1     Fake  Education  El Ruinaversal   \n",
       "1   2     Fake  Education     Hay noticia   \n",
       "2   3     Fake  Education  El Ruinaversal   \n",
       "3   4     True  Education    EL UNIVERSAL   \n",
       "4   5     Fake  Education          Lamula   \n",
       "\n",
       "                                            Headline  \\\n",
       "0  RAE INCLUIRÁ LA PALABRA \"LADY\" EN EL DICCIONAR...   \n",
       "1            La palabra \"haiga\", aceptada por la RAE   \n",
       "2  YORDI ROSADO ESCRIBIRÁ Y DISEÑARÁ LOS NUEVOS L...   \n",
       "3  UNAM capacitará a maestros para aprobar prueba...   \n",
       "4  pretenden aprobar libros escolares con conteni...   \n",
       "\n",
       "                                                Text  \\\n",
       "0  RAE INCLUIRÁ LA PALABRA \"LADY\" EN EL DICCIONAR...   \n",
       "1  La palabra \"haiga\", aceptada por la RAE La Rea...   \n",
       "2  YORDI ROSADO ESCRIBIRÁ Y DISEÑARÁ LOS NUEVOS L...   \n",
       "3  UNAM capacitará a maestros para aprobar prueba...   \n",
       "4  Alerta: pretenden aprobar libros escolares con...   \n",
       "\n",
       "                                                Link  \n",
       "0  http://www.elruinaversal.com/2017/06/10/rae-in...  \n",
       "1  https://haynoticia.es/la-palabra-haiga-aceptad...  \n",
       "2  http://www.elruinaversal.com/2018/05/06/yordi-...  \n",
       "3  http://www.eluniversal.com.mx/articulo/nacion/...  \n",
       "4  https://redaccion.lamula.pe/2018/06/19/memoria...  "
      ]
     },
     "execution_count": 36,
     "metadata": {},
     "output_type": "execute_result"
    }
   ],
   "source": [
    "# load the data\n",
    "df_train = pd.read_csv(\"/home/ale/Documents/data/[FakeDeS2021]train.csv\")\n",
    "line('dataset description')\n",
    "df_train.info()\n",
    "line('first lines')\n",
    "df_train.head()"
   ]
  },
  {
   "cell_type": "code",
   "execution_count": 39,
   "id": "229333aa",
   "metadata": {},
   "outputs": [
    {
     "name": "stdout",
     "output_type": "stream",
     "text": [
      "22\n",
      "44\n",
      "39\n",
      "60\n"
     ]
    }
   ],
   "source": [
    "fuzzywuzzy_fun(df_train['Headline'][0], df_train['Headline'][1])"
   ]
  },
  {
   "cell_type": "code",
   "execution_count": 40,
   "id": "ec63ca75",
   "metadata": {},
   "outputs": [
    {
     "data": {
      "text/plain": [
       "'RAE INCLUIRÁ LA PALABRA \"LADY\" EN EL DICCIONARIO DEL IDIOMA ESPAÑOL COMO DEFINICIÓN DE \"MUJER PROBLEMÁTICA\"'"
      ]
     },
     "execution_count": 40,
     "metadata": {},
     "output_type": "execute_result"
    }
   ],
   "source": [
    "df_train['Headline'][0]"
   ]
  },
  {
   "cell_type": "code",
   "execution_count": 42,
   "id": "a015aa9f",
   "metadata": {},
   "outputs": [
    {
     "data": {
      "text/plain": [
       "'La palabra \"haiga\", aceptada por la RAE'"
      ]
     },
     "execution_count": 42,
     "metadata": {},
     "output_type": "execute_result"
    }
   ],
   "source": [
    "df_train['Headline'][1]"
   ]
  },
  {
   "cell_type": "code",
   "execution_count": null,
   "id": "a2f4df0d",
   "metadata": {},
   "outputs": [],
   "source": []
  }
 ],
 "metadata": {
  "kernelspec": {
   "display_name": "env",
   "language": "python",
   "name": "env"
  },
  "language_info": {
   "codemirror_mode": {
    "name": "ipython",
    "version": 3
   },
   "file_extension": ".py",
   "mimetype": "text/x-python",
   "name": "python",
   "nbconvert_exporter": "python",
   "pygments_lexer": "ipython3",
   "version": "3.8.10"
  }
 },
 "nbformat": 4,
 "nbformat_minor": 5
}
